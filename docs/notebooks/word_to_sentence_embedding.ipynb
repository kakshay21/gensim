{
 "cells": [
  {
   "cell_type": "code",
   "execution_count": 106,
   "metadata": {},
   "outputs": [],
   "source": [
    "from gensim.models import Word2Vec, KeyedVectors, TfidfModel\n",
    "from gensim.parsing.preprocessing import STOPWORDS\n",
    "from scipy.sparse.linalg import svds\n",
    "from scipy.spatial.distance import cosine\n",
    "import numpy as np"
   ]
  },
  {
   "cell_type": "code",
   "execution_count": 2,
   "metadata": {},
   "outputs": [],
   "source": [
    "model = KeyedVectors.load_word2vec_format('GoogleNews-vectors-negative300.bin.gz', binary=True)"
   ]
  },
  {
   "cell_type": "code",
   "execution_count": 198,
   "metadata": {},
   "outputs": [],
   "source": [
    "def simple_average(sent):\n",
    "    sents_emd = []\n",
    "    for s in sent:\n",
    "        sent_emd = []\n",
    "        for w in s:\n",
    "            if w in model:\n",
    "                sent_emd.append(model[w])\n",
    "            else:\n",
    "                continue\n",
    "        sent_emd = np.array(sent_emd)\n",
    "        sum_ = sent_emd.sum(axis=0)\n",
    "        result = sum_/np.sqrt((sum_**2).sum())\n",
    "        sents_emd.append(result)\n",
    "    return sents_emd"
   ]
  },
  {
   "cell_type": "code",
   "execution_count": 199,
   "metadata": {},
   "outputs": [],
   "source": [
    "def tf_idf(sent):\n",
    "    word_counter = {}\n",
    "    total_count = 0\n",
    "    for s in sent:\n",
    "        for w in s:\n",
    "            if w in word_counter:\n",
    "                word_counter[w] = word_counter[w] + 1\n",
    "            else:\n",
    "                word_counter[w] = 1\n",
    "        total_count = total_count + len(s)\n",
    "    no_of_sentences = len(sent)\n",
    "    sents_emd = []\n",
    "    for s in sent:\n",
    "        sent_emd = []\n",
    "        for word in s:\n",
    "            tf = word_counter[word]/float(len(s))\n",
    "            idf = np.log(no_of_sentences/float(1+ word_counter[word]))\n",
    "            try:\n",
    "                emd = tf*idf*model[word]\n",
    "                sent_emd.append(emd)\n",
    "            except:\n",
    "                continue\n",
    "        sent_emd = np.array(sent_emd)\n",
    "        sum_ = sent_emd.sum(axis=0)\n",
    "        result = sum_/np.sqrt((sum_**2).sum())\n",
    "        sents_emd.append(result)\n",
    "    return sents_emd"
   ]
  },
  {
   "cell_type": "code",
   "execution_count": 210,
   "metadata": {},
   "outputs": [],
   "source": [
    "def smooth_inverse_frequency(sent, a=None):\n",
    "    word_counter = {}\n",
    "    sentences = []\n",
    "    total_count = 0\n",
    "    for s in sent:\n",
    "        for w in s:\n",
    "            if w in word_counter:\n",
    "                word_counter[w] = word_counter[w] + 1\n",
    "            else:\n",
    "                word_counter[w] = 1\n",
    "        total_count = total_count + len(s)\n",
    "    no_of_sentences = len(sent)\n",
    "    sents_emd = []\n",
    "    for s in sent:\n",
    "        sent_emd = []\n",
    "        for word in s:\n",
    "            if a is None and word in model:\n",
    "                a = 0.001\n",
    "                emd = (a/(a + (word_counter[word]/total_count)))*model[word]\n",
    "                sent_emd.append(emd)\n",
    "            elif a is not None and word in model:\n",
    "                emd = (a/(a + (word_counter[word]/total_count)))*model[word]\n",
    "                sent_emd.append(emd)\n",
    "        sum_ = np.array(sent_emd).sum(axis=0)\n",
    "        sentence_emd = sum_/float(no_of_sentences)\n",
    "        sents_emd.append(sentence_emd)\n",
    "    u  = np.array(svds(sents_emd, k=1))\n",
    "    u = u[2]\n",
    "    new_sents_emd = []\n",
    "    for s in sents_emd:\n",
    "        s = s - u.dot(u.transpose())*s\n",
    "        new_sents_emd.append(s)\n",
    "    return new_sents_emd"
   ]
  },
  {
   "cell_type": "code",
   "execution_count": 211,
   "metadata": {},
   "outputs": [],
   "source": [
    "s1 = \"this is a sample sentence with cat and dog\"\n",
    "s1 = s1.lower().split()\n",
    "s1 = [w for w in s1 if w not in STOPWORDS]\n",
    "s2 = \"there was a time when computers were very expensive\"\n",
    "s2 = s2.lower().split()\n",
    "s2 = [w for w in s2 if w not in STOPWORDS]\n",
    "s3 = \"one more day with cute dog\"\n",
    "s3 = s3.lower().split()\n",
    "s3 = [w for w in s3 if w not in STOPWORDS]\n",
    "s4 = \"I'm eagerly waiting for Avengers Infinity War\"\n",
    "s4 = s4.lower().split()\n",
    "s4 = [w for w in s4 if w not in STOPWORDS]"
   ]
  },
  {
   "cell_type": "code",
   "execution_count": 217,
   "metadata": {},
   "outputs": [],
   "source": [
    "sentences = [s1,s2,s3,s4]\n",
    "sentences_emd1 = smooth_inverse_frequency(sentences)\n",
    "sentences_emd2 = tf_idf(sentences)\n",
    "sentences_emd3 = simple_average(sentences)\n",
    "# print sentences_emd1"
   ]
  },
  {
   "cell_type": "code",
   "execution_count": 218,
   "metadata": {},
   "outputs": [],
   "source": [
    "# tf_idf_model = TfidfModel(sentences)"
   ]
  },
  {
   "cell_type": "markdown",
   "metadata": {},
   "source": [
    "Benchmarking with cosine distance"
   ]
  },
  {
   "cell_type": "code",
   "execution_count": 219,
   "metadata": {},
   "outputs": [
    {
     "name": "stdout",
     "output_type": "stream",
     "text": [
      "SIF: 0.369763314724 tfIdf: 0.371883571148 SimAvg: 0.418903470039\n",
      "SIF: 0.803362444043 tfIdf: 0.79425162077 SimAvg: 0.79425162077\n"
     ]
    }
   ],
   "source": [
    "d1 = cosine(sentences_emd1[0],sentences_emd1[2])\n",
    "d2 = cosine(sentences_emd3[0],sentences_emd3[2])\n",
    "d3 = cosine(sentences_emd2[0],sentences_emd2[2])\n",
    "print(\"SIF: {} tfIdf: {} SimAvg: {}\".format(d1, d2, d3))\n",
    "d4 = cosine(sentences_emd1[1],sentences_emd1[3])\n",
    "d5 = cosine(sentences_emd3[1],sentences_emd3[3])\n",
    "d6 = cosine(sentences_emd2[1],sentences_emd2[3])\n",
    "print(\"SIF: {} tfIdf: {} SimAvg: {}\".format(d4, d5, d6))"
   ]
  },
  {
   "cell_type": "markdown",
   "metadata": {},
   "source": [
    "### For visualisation"
   ]
  },
  {
   "cell_type": "code",
   "execution_count": 185,
   "metadata": {},
   "outputs": [],
   "source": [
    "# for simple average\n",
    "a = \"\"\n",
    "for i in sentences_emd3:\n",
    "    for s in i:\n",
    "        a = a + str(s) + '\\t'\n",
    "    a = a + '\\n'\n",
    "with open(\"record3.tsv\", \"w\") as record_file:\n",
    "    record_file.write(a)"
   ]
  },
  {
   "cell_type": "markdown",
   "metadata": {},
   "source": [
    "Simple Average: \n",
    "<img src=\"AVG.png\">"
   ]
  },
  {
   "cell_type": "code",
   "execution_count": 186,
   "metadata": {},
   "outputs": [],
   "source": [
    "# for TF-IDF\n",
    "a = \"\"\n",
    "for i in sentences_emd2:\n",
    "    for s in i:\n",
    "        a = a + str(s) + '\\t'\n",
    "    a = a + '\\n'\n",
    "with open(\"record2.tsv\", \"w\") as record_file:\n",
    "    record_file.write(a)"
   ]
  },
  {
   "cell_type": "markdown",
   "metadata": {},
   "source": [
    "TF-IDF: \n",
    "<img src=\"TFIDF.png\">"
   ]
  },
  {
   "cell_type": "code",
   "execution_count": 187,
   "metadata": {},
   "outputs": [],
   "source": [
    "# for SIF\n",
    "a = \"\"\n",
    "for i in sentences_emd1:\n",
    "    for s in i:\n",
    "        a = a + str(s) + '\\t'\n",
    "    a = a + '\\n'\n",
    "with open(\"record1.tsv\", \"w\") as record_file:\n",
    "    record_file.write(a)"
   ]
  },
  {
   "cell_type": "markdown",
   "metadata": {},
   "source": [
    "SIF: \n",
    "<img src=\"SIF.png\">"
   ]
  },
  {
   "cell_type": "markdown",
   "metadata": {},
   "source": [
    "### Clearly in all three, s1 and s3 are more closer to each other."
   ]
  },
  {
   "cell_type": "code",
   "execution_count": null,
   "metadata": {},
   "outputs": [],
   "source": []
  }
 ],
 "metadata": {
  "kernelspec": {
   "display_name": "Python 2",
   "language": "python",
   "name": "python2"
  },
  "language_info": {
   "codemirror_mode": {
    "name": "ipython",
    "version": 2
   },
   "file_extension": ".py",
   "mimetype": "text/x-python",
   "name": "python",
   "nbconvert_exporter": "python",
   "pygments_lexer": "ipython2",
   "version": "2.7.14"
  }
 },
 "nbformat": 4,
 "nbformat_minor": 2
}
